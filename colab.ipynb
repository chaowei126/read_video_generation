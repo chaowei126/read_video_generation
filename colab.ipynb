{
 "nbformat": 4,
 "nbformat_minor": 0,
 "metadata": {
  "colab": {
   "provenance": []
  },
  "kernelspec": {
   "name": "python3",
   "display_name": "Python 3"
  },
  "language_info": {
   "name": "python"
  }
 },
 "cells": [
  {
   "cell_type": "markdown",
   "source": [
    "# 环境配置"
   ],
   "metadata": {
    "id": "F7uwgj_fw2xw"
   }
  },
  {
   "cell_type": "code",
   "source": [
    "from google.colab import drive\n",
    "drive.mount('/content/drive')"
   ],
   "metadata": {
    "colab": {
     "base_uri": "https://localhost:8080/"
    },
    "id": "ohg1d1yIzALH",
    "outputId": "4cbe0837-8a5e-4429-ddd0-59bcd8907400"
   },
   "execution_count": 19,
   "outputs": [
    {
     "output_type": "stream",
     "name": "stdout",
     "text": [
      "Drive already mounted at /content/drive; to attempt to forcibly remount, call drive.mount(\"/content/drive\", force_remount=True).\n"
     ]
    }
   ]
  },
  {
   "cell_type": "code",
   "execution_count": 20,
   "metadata": {
    "colab": {
     "base_uri": "https://localhost:8080/"
    },
    "id": "0euEllbRwpPt",
    "outputId": "30fed0d4-ac2a-425c-a303-2cfc16d78e2d"
   },
   "outputs": [
    {
     "output_type": "stream",
     "name": "stdout",
     "text": [
      "/content\n",
      "Cloning into 'read_video_generation'...\n",
      "remote: Enumerating objects: 30, done.\u001B[K\n",
      "remote: Counting objects: 100% (30/30), done.\u001B[K\n",
      "remote: Compressing objects: 100% (20/20), done.\u001B[K\n",
      "remote: Total 30 (delta 9), reused 24 (delta 6), pack-reused 0\u001B[K\n",
      "Receiving objects: 100% (30/30), 17.41 MiB | 26.06 MiB/s, done.\n",
      "Resolving deltas: 100% (9/9), done.\n"
     ]
    }
   ],
   "source": [
    "%cd /content\n",
    "!rm -rf read_video_generation\n",
    "!git clone https://github.com/iioSnail/read_video_generation.git\n",
    "%cd read_video_generation/"
   ]
  },
  {
   "cell_type": "code",
   "source": [
    "!pip install -r requirements.txt"
   ],
   "metadata": {
    "colab": {
     "base_uri": "https://localhost:8080/"
    },
    "id": "isA55LG5w7gN",
    "outputId": "e8b7487d-5c83-4881-85cd-970315744d7e"
   },
   "execution_count": 22,
   "outputs": [
    {
     "output_type": "stream",
     "name": "stdout",
     "text": [
      "Requirement already satisfied: gTTS in /usr/local/lib/python3.10/dist-packages (from -r requirements.txt (line 1)) (2.5.0)\n",
      "Requirement already satisfied: pydub in /usr/local/lib/python3.10/dist-packages (from -r requirements.txt (line 2)) (0.25.1)\n",
      "Requirement already satisfied: moviepy in /usr/local/lib/python3.10/dist-packages (from -r requirements.txt (line 3)) (1.0.3)\n",
      "Requirement already satisfied: pandas in /usr/local/lib/python3.10/dist-packages (from -r requirements.txt (line 4)) (1.5.3)\n",
      "Requirement already satisfied: requests<3,>=2.27 in /usr/local/lib/python3.10/dist-packages (from gTTS->-r requirements.txt (line 1)) (2.31.0)\n",
      "Requirement already satisfied: click<8.2,>=7.1 in /usr/local/lib/python3.10/dist-packages (from gTTS->-r requirements.txt (line 1)) (8.1.7)\n",
      "Requirement already satisfied: decorator<5.0,>=4.0.2 in /usr/local/lib/python3.10/dist-packages (from moviepy->-r requirements.txt (line 3)) (4.4.2)\n",
      "Requirement already satisfied: tqdm<5.0,>=4.11.2 in /usr/local/lib/python3.10/dist-packages (from moviepy->-r requirements.txt (line 3)) (4.66.1)\n",
      "Requirement already satisfied: proglog<=1.0.0 in /usr/local/lib/python3.10/dist-packages (from moviepy->-r requirements.txt (line 3)) (0.1.10)\n",
      "Requirement already satisfied: numpy>=1.17.3 in /usr/local/lib/python3.10/dist-packages (from moviepy->-r requirements.txt (line 3)) (1.23.5)\n",
      "Requirement already satisfied: imageio<3.0,>=2.5 in /usr/local/lib/python3.10/dist-packages (from moviepy->-r requirements.txt (line 3)) (2.31.6)\n",
      "Requirement already satisfied: imageio-ffmpeg>=0.2.0 in /usr/local/lib/python3.10/dist-packages (from moviepy->-r requirements.txt (line 3)) (0.4.9)\n",
      "Requirement already satisfied: python-dateutil>=2.8.1 in /usr/local/lib/python3.10/dist-packages (from pandas->-r requirements.txt (line 4)) (2.8.2)\n",
      "Requirement already satisfied: pytz>=2020.1 in /usr/local/lib/python3.10/dist-packages (from pandas->-r requirements.txt (line 4)) (2023.3.post1)\n",
      "Requirement already satisfied: pillow<10.1.0,>=8.3.2 in /usr/local/lib/python3.10/dist-packages (from imageio<3.0,>=2.5->moviepy->-r requirements.txt (line 3)) (9.4.0)\n",
      "Requirement already satisfied: setuptools in /usr/local/lib/python3.10/dist-packages (from imageio-ffmpeg>=0.2.0->moviepy->-r requirements.txt (line 3)) (67.7.2)\n",
      "Requirement already satisfied: six>=1.5 in /usr/local/lib/python3.10/dist-packages (from python-dateutil>=2.8.1->pandas->-r requirements.txt (line 4)) (1.16.0)\n",
      "Requirement already satisfied: charset-normalizer<4,>=2 in /usr/local/lib/python3.10/dist-packages (from requests<3,>=2.27->gTTS->-r requirements.txt (line 1)) (3.3.2)\n",
      "Requirement already satisfied: idna<4,>=2.5 in /usr/local/lib/python3.10/dist-packages (from requests<3,>=2.27->gTTS->-r requirements.txt (line 1)) (3.6)\n",
      "Requirement already satisfied: urllib3<3,>=1.21.1 in /usr/local/lib/python3.10/dist-packages (from requests<3,>=2.27->gTTS->-r requirements.txt (line 1)) (2.0.7)\n",
      "Requirement already satisfied: certifi>=2017.4.17 in /usr/local/lib/python3.10/dist-packages (from requests<3,>=2.27->gTTS->-r requirements.txt (line 1)) (2023.11.17)\n"
     ]
    }
   ]
  },
  {
   "cell_type": "markdown",
   "source": [
    "# 配置参数\n",
    "\n",
    "请上传你的excel文件到`read_video_generation`目录下，并修改下面的`filename`路径。文件样例：[excel样例](https://github.com/iioSnail/read_video_generation/raw/main/samples/words.xlsx)\n",
    "\n",
    "\n"
   ],
   "metadata": {
    "id": "6r0A0CcRxCmY",
    "pycharm": {
     "name": "#%% md\n"
    }
   }
  },
  {
   "cell_type": "code",
   "source": [
    "# 仅读单词\n",
    "filename = './samples/coca20000.csv'  # 你上传的文件路径。上传后修改这里\n",
    "read_columns=\"单词,基本释义\"  # 需要朗读的列，多个列用逗号分隔。例如：单词,基本释义,例句\n",
    "lrc_columns=\"单词+基本释义\"  # 需要在音频歌词中展示的列，多个列用逗号分隔，若使用+号。例如：单词+释义,详细释义\n",
    "show_columns=\"序号+单词+音标,详细释义,例句,例句释义\"  # 需要在视频中展示的列，多个列以逗号分割，若使用+号，两列将展示到一行。例如：序号+单词+音标,详细释义,例句,例句中文\n",
    "\n",
    "# 下面是这些参数可以不改\n",
    "from_line = 500  # 从excel哪一行开始（包含该行）\n",
    "until_line = -1  # 到excel哪一行结束（包含该行）。-1表示到文件结尾\n",
    "repeat_times = 2  # 重复次数；一个单词念几遍\n",
    "interval = 1000  # 两个单词之间间隔1000毫秒\n",
    "inner_interval = 500 # 英文和中文之间间隔500毫秒\n",
    "max_minutes = 9999  # 一个视频最多30分钟。如果超过30分钟，则会分多个视频。\n",
    "add_volume = 18  # 加减音量（分贝）。例如：10是音量加10分贝，-10是减10分贝\n",
    "background_color = \"black\"  # 视频背景色\n",
    "font_color = \"white\"  # 文字颜色\n",
    "video_width = 1920  # 视频宽度\n",
    "video_height = 1080  # 视频高度，默认是1920x1080\n",
    "max_font_size = 120  # 最大字体大小\n",
    "cache_dir = '/content/drive/MyDrive/cache/'  # 缓存目录，建议挂载google drive，这样断了的话还能从中间继续\n",
    "output_dir = '/content/drive/MyDrive/outputs/'  # 输出目录"
   ],
   "metadata": {
    "id": "rdcn44GVxCHc",
    "pycharm": {
     "name": "#%%\n"
    }
   },
   "execution_count": 23,
   "outputs": []
  },
  {
   "cell_type": "code",
   "execution_count": null,
   "outputs": [],
   "source": [
    "# 单词+例句\n",
    "filename = './samples/coca20000.csv'  # 你上传的文件路径。上传后修改这里\n",
    "read_columns=\"单词,基本释义,例句,例句释义\"  # 需要朗读的列，多个列用逗号分隔。例如：单词,基本释义,例句\n",
    "lrc_columns=\"单词+基本释义\"  # 需要在音频歌词中展示的列，多个列用逗号分隔，若使用+号。例如：单词+释义,详细释义\n",
    "show_columns=\"序号+单词+音标,详细释义,例句,例句释义\"  # 需要在视频中展示的列，多个列以逗号分割，若使用+号，两列将展示到一行。例如：序号+单词+音标,详细释义,例句,例句中文\n",
    "\n",
    "# 下面是这些参数可以不改\n",
    "from_line = 500  # 从excel哪一行开始（包含该行）\n",
    "until_line = -1  # 到excel哪一行结束（包含该行）。-1表示到文件结尾\n",
    "repeat_times = 2  # 重复次数；一个单词念几遍\n",
    "interval = 1000  # 两个单词之间间隔1000毫秒\n",
    "inner_interval = 500 # 英文和中文之间间隔500毫秒\n",
    "max_minutes = 9999  # 一个视频最多30分钟。如果超过30分钟，则会分多个视频。\n",
    "add_volume = 10  # 加减音量（分贝）。例如：10是音量加10分贝，-10是减10分贝\n",
    "background_color = \"black\"  # 视频背景色\n",
    "font_color = \"white\"  # 文字颜色\n",
    "video_width = 1920  # 视频宽度\n",
    "video_height = 1080  # 视频高度，默认是1920x1080\n",
    "max_font_size = 120  # 最大字体大小\n",
    "cache_dir = '/content/drive/MyDrive/cache/'  # 缓存目录，建议挂载google drive，这样断了的话还能从中间继续\n",
    "output_dir = '/content/drive/MyDrive/outputs/'  # 输出目录"
   ],
   "metadata": {
    "collapsed": false,
    "pycharm": {
     "name": "#%%\n"
    }
   }
  },
  {
   "cell_type": "code",
   "source": [
    "!python gene_video.py --filename {filename}  \\\n",
    "                      --read-columns {read_columns} \\\n",
    "                      --lrc-columns {lrc_columns} \\\n",
    "                      --show-columns {show_columns} \\\n",
    "                      --from-line {from_line} \\\n",
    "                      --until-line {until_line} \\\n",
    "                      --repeat-times {repeat_times} \\\n",
    "                      --interval {interval} \\\n",
    "                      --inner-interval {inner_interval} \\\n",
    "                      --max-minutes {max_minutes} \\\n",
    "                      --add-volume {add_volume} \\\n",
    "                      --background-color {background_color} \\\n",
    "                      --font-color {font_color} \\\n",
    "                      --video-width {video_width} \\\n",
    "                      --video-height {video_height} \\\n",
    "                      --max-font-size {max_font_size} \\\n",
    "                      --cache-dir {cache_dir} \\\n",
    "                      --output-dir {output_dir} \\\n",
    "                      --video  # 如果不需要生成视频，这里可以改为--no-video，这样会快很多"
   ],
   "metadata": {
    "colab": {
     "base_uri": "https://localhost:8080/"
    },
    "id": "EVVndwJ0x320",
    "outputId": "468daa4f-a5cc-4f2d-a3fe-61c8d73f6025"
   },
   "execution_count": 24,
   "outputs": [
    {
     "output_type": "stream",
     "name": "stdout",
     "text": [
      "error: XDG_RUNTIME_DIR not set in the environment.\n",
      "ALSA lib confmisc.c:855:(parse_card) cannot find card '0'\n",
      "ALSA lib conf.c:5178:(_snd_config_evaluate) function snd_func_card_inum returned error: No such file or directory\n",
      "ALSA lib confmisc.c:422:(snd_func_concat) error evaluating strings\n",
      "ALSA lib conf.c:5178:(_snd_config_evaluate) function snd_func_concat returned error: No such file or directory\n",
      "ALSA lib confmisc.c:1334:(snd_func_refer) error evaluating name\n",
      "ALSA lib conf.c:5178:(_snd_config_evaluate) function snd_func_refer returned error: No such file or directory\n",
      "ALSA lib conf.c:5701:(snd_config_expand) Evaluate error: No such file or directory\n",
      "ALSA lib pcm.c:2664:(snd_pcm_open_noupdate) Unknown PCM default\n",
      "ALSA lib confmisc.c:855:(parse_card) cannot find card '0'\n",
      "ALSA lib conf.c:5178:(_snd_config_evaluate) function snd_func_card_inum returned error: No such file or directory\n",
      "ALSA lib confmisc.c:422:(snd_func_concat) error evaluating strings\n",
      "ALSA lib conf.c:5178:(_snd_config_evaluate) function snd_func_concat returned error: No such file or directory\n",
      "ALSA lib confmisc.c:1334:(snd_func_refer) error evaluating name\n",
      "ALSA lib conf.c:5178:(_snd_config_evaluate) function snd_func_refer returned error: No such file or directory\n",
      "ALSA lib conf.c:5701:(snd_config_expand) Evaluate error: No such file or directory\n",
      "ALSA lib pcm.c:2664:(snd_pcm_open_noupdate) Unknown PCM default\n",
      " 40% 100/248 [01:58<04:32,  1.84s/it]\n",
      "生成音频文件： /content/drive/MyDrive/outputs/1-20.1.mp3\n",
      "\n",
      "生成视频中，耗时较长，请耐心等待...\n",
      "\n",
      "生成视频文件： /content/drive/MyDrive/outputs/1-20.1.mp4\n",
      "耗时: 173 秒\n",
      " 59% 146/248 [06:16<04:23,  2.58s/it]\n",
      "Traceback (most recent call last):\n",
      "  File \"/usr/lib/python3.10/subprocess.py\", line 1154, in communicate\n",
      "    stdout, stderr = self._communicate(input, endtime, timeout)\n",
      "  File \"/usr/lib/python3.10/subprocess.py\", line 2021, in _communicate\n",
      "    ready = selector.select(timeout)\n",
      "  File \"/usr/lib/python3.10/selectors.py\", line 416, in select\n",
      "    fd_event_list = self._selector.poll(timeout)\n",
      "KeyboardInterrupt\n",
      "\n",
      "During handling of the above exception, another exception occurred:\n",
      "\n",
      "Traceback (most recent call last):\n",
      "  File \"/content/read_video_generation/gene_video.py\", line 277, in <module>\n",
      "    GenerateVideo().generate()\n",
      "  File \"/content/read_video_generation/gene_video.py\", line 229, in generate\n",
      "    word_audio = AudioSegment.from_mp3(word_audio)\n",
      "  File \"/usr/local/lib/python3.10/dist-packages/pydub/audio_segment.py\", line 796, in from_mp3\n",
      "    return cls.from_file(file, 'mp3', parameters=parameters)\n",
      "  File \"/usr/local/lib/python3.10/dist-packages/pydub/audio_segment.py\", line 728, in from_file\n",
      "    info = mediainfo_json(orig_file, read_ahead_limit=read_ahead_limit)\n",
      "  File \"/usr/local/lib/python3.10/dist-packages/pydub/utils.py\", line 275, in mediainfo_json\n",
      "    output, stderr = res.communicate(input=stdin_data)\n",
      "  File \"/usr/lib/python3.10/subprocess.py\", line 1165, in communicate\n",
      "    self._wait(timeout=sigint_timeout)\n",
      "  File \"/usr/lib/python3.10/subprocess.py\", line 1953, in _wait\n",
      "    time.sleep(delay)\n",
      "KeyboardInterrupt\n",
      "^C\n"
     ]
    }
   ]
  },
  {
   "cell_type": "code",
   "execution_count": null,
   "outputs": [],
   "source": [
    "import time\n",
    "time.sleep(10)\n",
    "\n",
    "from google.colab import runtime\n",
    "runtime.unassign()"
   ],
   "metadata": {
    "collapsed": false,
    "pycharm": {
     "name": "#%%\n"
    }
   }
  }
 ]
}