{
 "cells": [
  {
   "cell_type": "code",
   "execution_count": null,
   "outputs": [],
   "source": [
    "# 挂载Google Drive，保存生成的文件与缓存文件\n",
    "from google.colab import drive\n",
    "drive.mount('/content/drive')"
   ],
   "metadata": {
    "collapsed": false,
    "pycharm": {
     "name": "#%%\n"
    }
   }
  },
  {
   "cell_type": "code",
   "execution_count": null,
   "outputs": [],
   "source": [
    "# 下载项目\n",
    "%cd /content\n",
    "!rm -rf read_video_generation\n",
    "!git clone https://github.com/iioSnail/read_video_generation.git\n",
    "%cd read_video_generation/"
   ],
   "metadata": {
    "collapsed": false,
    "pycharm": {
     "name": "#%%\n"
    }
   }
  },
  {
   "cell_type": "code",
   "execution_count": null,
   "outputs": [],
   "source": [
    "# 安装相关依赖\n",
    "!pip install -r requirements.txt"
   ],
   "metadata": {
    "collapsed": false,
    "pycharm": {
     "name": "#%%\n"
    }
   }
  },
  {
   "cell_type": "code",
   "source": [
    "# 请上传你的excel文件，并更改`filename`路径\n",
    "filename = './samples/coca20000.csv'  # 你上传的文件路径。上传后修改这里\n",
    "read_columns=\"单词,基本释义\"  # 需要朗读的列，多个列用逗号分隔。例如：单词,基本释义,例句\n",
    "lrc_columns=\"单词+基本释义\"  # 需要在音频歌词中展示的列，多个列用逗号分隔，若使用+号。例如：单词+释义,详细释义\n",
    "show_columns=\"序号+单词+音标,详细释义,例句,例句释义\"  # 需要在视频中展示的列，多个列以逗号分割，若使用+号，两列将展示到一行。例如：序号+单词+音标,详细释义,例句,例句中文\n",
    "from_line = 1  # 从excel哪一行开始（包含该行）\n",
    "until_line = 10  # 到excel哪一行结束（包含该行）。-1表示到文件结尾\n",
    "\n",
    "# 下面是这些参数可以不改\n",
    "repeat_times = 2  # 重复次数；一个单词念几遍\n",
    "interval = 1000  # 两个单词之间间隔1000毫秒\n",
    "inner_interval = 500 # 英文和中文之间间隔500毫秒\n",
    "max_minutes = 9999  # 一个视频最多30分钟。如果超过30分钟，则会分多个视频。\n",
    "add_volume = 18  # 加减音量（分贝）。例如：10是音量加10分贝，-10是减10分贝\n",
    "low_pass_filter = 3000  # 过滤高音部分（护耳）。例如：8000表示过滤掉频率超过8k的频率\n",
    "background_color = \"black\"  # 视频背景色\n",
    "font_color = \"white\"  # 文字颜色\n",
    "video_width = 1920  # 视频宽度\n",
    "video_height = 1080  # 视频高度，默认是1920x1080\n",
    "max_font_size = 120  # 最大字体大小\n",
    "cache_dir = '/content/drive/MyDrive/cache/'  # 缓存目录，建议挂载google drive，这样断了的话还能从中间继续\n",
    "output_dir = '/content/drive/MyDrive/outputs/'  # 输出目录"
   ],
   "metadata": {
    "collapsed": false,
    "pycharm": {
     "name": "#%%\n"
    }
   },
   "execution_count": null,
   "outputs": []
  },
  {
   "cell_type": "code",
   "execution_count": null,
   "outputs": [],
   "source": [
    "!python gene_video.py --filename {filename}  \\\n",
    "                      --read-columns {read_columns} \\\n",
    "                      --lrc-columns {lrc_columns} \\\n",
    "                      --show-columns {show_columns} \\\n",
    "                      --from-line {from_line} \\\n",
    "                      --until-line {until_line} \\\n",
    "                      --repeat-times {repeat_times} \\\n",
    "                      --interval {interval} \\\n",
    "                      --inner-interval {inner_interval} \\\n",
    "                      --max-minutes {max_minutes} \\\n",
    "                      --add-volume {add_volume} \\\n",
    "                      --low-pass-filter {low_pass_filter} \\\n",
    "                      --background-color {background_color} \\\n",
    "                      --font-color {font_color} \\\n",
    "                      --video-width {video_width} \\\n",
    "                      --video-height {video_height} \\\n",
    "                      --max-font-size {max_font_size} \\\n",
    "                      --cache-dir {cache_dir} \\\n",
    "                      --output-dir {output_dir} \\\n",
    "                      --no-cache \\\n",
    "                      --video  # 如果不需要生成视频，这里可以改为--no-video，这样会快很多"
   ],
   "metadata": {
    "collapsed": false,
    "pycharm": {
     "name": "#%%\n"
    }
   }
  }
 ],
 "metadata": {
  "kernelspec": {
   "display_name": "Python 3",
   "language": "python",
   "name": "python3"
  },
  "language_info": {
   "codemirror_mode": {
    "name": "ipython",
    "version": 2
   },
   "file_extension": ".py",
   "mimetype": "text/x-python",
   "name": "python",
   "nbconvert_exporter": "python",
   "pygments_lexer": "ipython2",
   "version": "2.7.6"
  }
 },
 "nbformat": 4,
 "nbformat_minor": 0
}